{
 "cells": [
  {
   "attachments": {},
   "cell_type": "markdown",
   "metadata": {},
   "source": [
    "# Reed Solomon Codes\n",
    "\n",
    "The following code is an imlementation of Reed Solomon Codes in python using the bigint library provided by \n",
    "The link to the same is as follows -\n",
    "\n",
    "Implemented by -\n",
    "1. Siddharth Kothari (IMT2021019)\n",
    "2. Sankalp Kothari (IMT2021028)\n"
   ]
  },
  {
   "attachments": {},
   "cell_type": "markdown",
   "metadata": {},
   "source": []
  }
 ],
 "metadata": {
  "language_info": {
   "name": "python"
  },
  "orig_nbformat": 4
 },
 "nbformat": 4,
 "nbformat_minor": 2
}
