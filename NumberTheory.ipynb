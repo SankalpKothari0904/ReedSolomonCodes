{
 "cells": [
  {
   "attachments": {},
   "cell_type": "markdown",
   "metadata": {},
   "source": [
    "# Reed Solomon Codes\n",
    "\n",
    "The following code is an imlementation of Reed Solomon Codes in python using the bigint library provided by \n",
    "The link to the same is as follows -\n",
    "\n",
    "Implemented by -\n",
    "1. Siddharth Kothari (IMT2021019)\n",
    "2. Sankalp Kothari (IMT2021028)\n"
   ]
  },
  {
   "attachments": {},
   "cell_type": "markdown",
   "metadata": {},
   "source": [
    "# System setup\n",
    "\n",
    "\n",
    "To run on Google Colab, kindly go to Google Colab, click on File > Upload Notebook, and go the location where you saved this file. Click on the file and upload it.\n",
    "\n",
    "<br>\n",
    "\n",
    "To run the notebook on your local machine (on Ubuntu), kindly install Anaconda by followin the steps at the given link\n",
    "https://docs.anaconda.com/free/anaconda/install/linux/\n",
    "\n",
    "Once anaconda installation is done, run the following command on the terminal to install gmpy2.\n"
   ]
  },
  {
   "cell_type": "code",
   "execution_count": null,
   "metadata": {
    "vscode": {
     "languageId": "shellscript"
    }
   },
   "outputs": [],
   "source": [
    "conda install -c anaconda gmpy2"
   ]
  },
  {
   "attachments": {},
   "cell_type": "markdown",
   "metadata": {},
   "source": [
    "1. To run the following Jupyter Notebook on VSCode, just open it in VSCode. \n",
    "2. Select the anaconda python interpreter (the one marked as 'Conda') to run the notebook. \n",
    "3. To change the interpreter, open the Command Palette (Ctrl + Shift + p), and select the Python: select interpreter command, and set the interpreter as Anaconda."
   ]
  },
  {
   "attachments": {},
   "cell_type": "markdown",
   "metadata": {},
   "source": [
    "# Code Implementation"
   ]
  },
  {
   "cell_type": "code",
   "execution_count": 3,
   "metadata": {},
   "outputs": [
    {
     "name": "stdout",
     "output_type": "stream",
     "text": [
      "([mpz(909090), mpz(8080), mpz(4130), mpz(3950), mpz(180), mpz(170), mpz(10)], [mpz(1), mpz(0), mpz(1), mpz(-1), mpz(2), mpz(-43), mpz(45)], [mpz(0), mpz(1), mpz(-112), mpz(113), mpz(-225), mpz(4838), mpz(-5063)])\n"
     ]
    }
   ],
   "source": [
    "from gmpy2 import is_prime, mpz\n",
    "\n",
    "# all the functions and classes below use arguments which are of the type mpz\n",
    "def multMod(a,b,n):\n",
    "    return (a*b)%n\n",
    "\n",
    "\n",
    "def EGCD(a,b):\n",
    "    r = []\n",
    "    r.append(a)\n",
    "    r.append(b)\n",
    "\n",
    "    s= []\n",
    "    s.append(mpz(1))\n",
    "    s.append(mpz(0))\n",
    "\n",
    "    t= []\n",
    "    t.append(mpz(0))\n",
    "    t.append(mpz(1))\n",
    "\n",
    "    while (a%b != 0):\n",
    "        q = a//b\n",
    "        rem = a%b\n",
    "\n",
    "        r.append(rem)\n",
    "        s_curr = s[-2] - q*s[-1]\n",
    "        t_curr = t[-2] - q*t[-1]\n",
    "        s.append(s_curr)\n",
    "        t.append(t_curr)\n",
    "\n",
    "        a = b\n",
    "        b = rem\n",
    "    \n",
    "    return (r,s,t)\n",
    "\n",
    "# print(EGCD(mpz(909090), mpz(8080)))\n",
    "\n",
    "\n",
    "def getInverse(a, n):\n",
    "    if (a>=n):\n",
    "        return EGCD(a,n)[1][-1]\n",
    "    else:\n",
    "        return EGCD(a,n)[2][-1]\n",
    "    \n",
    "\n",
    "class CRT :\n",
    "    def __init__(self, N):\n",
    "        self.N = N\n",
    "        # N represents the list of primes used (n1, n2, ..., nk)\n",
    "\n",
    "    def getPrimes(self):\n",
    "        return self.N\n",
    "    \n",
    "    def getProduct(self):\n",
    "        n = mpz(1)\n",
    "        for i in self.N:\n",
    "            n*=i\n",
    "        return n\n",
    "    \n",
    "    def getCRTMap(self, a):\n",
    "        # gets the CRT Map for a given a \n",
    "        CRTmap = []\n",
    "        for i in range(len(self.N)):\n",
    "            CRTmap.append(a % self.N[i])\n",
    "        \n",
    "        return CRTmap\n",
    "\n",
    "    def getPreImage(self, A):\n",
    "        # takes A which is the list of a1, a2, ..., ak\n",
    "\n",
    "        if (len(A) != len(self.N)):\n",
    "            return -1\n",
    "        \n",
    "        a = 0\n",
    "        n = self.getProduct()\n",
    "\n",
    "        for i in range(len(A)):\n",
    "            ni_star = mpz(1)\n",
    "            for j in range(len(A)):\n",
    "                if i!=j:\n",
    "                    bi = multMod(ni_star, self.N[j], self.N[i])\n",
    "                    ni_star *= self.N[j]\n",
    "            \n",
    "            ti = getInverse(bi, self.N[i])\n",
    "            if ti<0:\n",
    "                ti+=self.N[i]\n",
    "            \n",
    "            ei = ni_star * ti\n",
    "\n",
    "            ai_ei = multMod(A[i], ei, n)\n",
    "            a+=ai_ei\n",
    "            a = a%n\n",
    "        \n",
    "        return a\n",
    "\n",
    "\n",
    "\n",
    "    "
   ]
  }
 ],
 "metadata": {
  "kernelspec": {
   "display_name": "base",
   "language": "python",
   "name": "python3"
  },
  "language_info": {
   "codemirror_mode": {
    "name": "ipython",
    "version": 3
   },
   "file_extension": ".py",
   "mimetype": "text/x-python",
   "name": "python",
   "nbconvert_exporter": "python",
   "pygments_lexer": "ipython3",
   "version": "3.10.9"
  },
  "orig_nbformat": 4
 },
 "nbformat": 4,
 "nbformat_minor": 2
}
